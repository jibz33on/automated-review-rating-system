{
 "cells": [
  {
   "cell_type": "code",
   "execution_count": 3,
   "id": "eef6a92b-e44e-465b-b3f3-b1d01213dbbc",
   "metadata": {},
   "outputs": [
    {
     "name": "stdout",
     "output_type": "stream",
     "text": [
      "Overwriting app.py\n"
     ]
    }
   ],
   "source": [
    "%%writefile app.py\n",
    "\n",
    "import streamlit as st\n",
    "import joblib\n",
    "import numpy as np\n",
    "from scipy.sparse import hstack\n",
    "\n",
    "# Load saved model and vectorizer\n",
    "model = joblib.load('../models/linear_regression_model.pkl')\n",
    "tfidf = joblib.load('../models/tfidf_vectorizer.pkl')\n",
    "\n",
    "# App configuration\n",
    "st.set_page_config(page_title=\"Review Score Predictor\", page_icon=\"📝\")\n",
    "st.title(\"📝 Review Score Predictor\")\n",
    "st.write(\"Enter a review and we'll predict the review score using a trained Linear Regression model.\")\n",
    "\n",
    "# User input: Review text only\n",
    "review_text = st.text_area(\"✍️ Enter your review text here\", height=150)\n",
    "\n",
    "if st.button(\"Predict Score\"):\n",
    "    if review_text.strip() == \"\":\n",
    "        st.warning(\"Please enter some review text to continue.\")\n",
    "    else:\n",
    "        # Derive numeric features from text\n",
    "        review_length_words = len(review_text.split())\n",
    "        review_length_chars = len(review_text)\n",
    "        helpfulness_ratio = 0.5  # Default neutral value\n",
    "\n",
    "        # TF-IDF transformation\n",
    "        text_vector = tfidf.transform([review_text])\n",
    "\n",
    "        # Numeric feature vector\n",
    "        numeric_vector = np.array([[review_length_words, review_length_chars, helpfulness_ratio]])\n",
    "\n",
    "        # Combine text + numeric\n",
    "        full_vector = hstack([text_vector, numeric_vector])\n",
    "\n",
    "        # Predict\n",
    "        predicted_score = model.predict(full_vector)[0]\n",
    "\n",
    "        # Interpret result\n",
    "        if predicted_score < 2.5:\n",
    "            sentiment = \"😞 Negative\"\n",
    "        elif predicted_score < 3.5:\n",
    "            sentiment = \"😐 Neutral\"\n",
    "        elif predicted_score < 5.0:\n",
    "            sentiment = \"🙂 Positive\"\n",
    "        else:\n",
    "            sentiment = \"😄 Very Positive\"\n",
    "\n",
    "        # Display result\n",
    "        st.success(f\"🎯 Predicted Review Score: {predicted_score:.2f}\")\n",
    "        st.info(f\"🧠 Interpretation: {sentiment}\")\n",
    "\n"
   ]
  },
  {
   "cell_type": "code",
   "execution_count": null,
   "id": "413f7d56-6eec-4985-9a12-25a00447392d",
   "metadata": {},
   "outputs": [],
   "source": []
  }
 ],
 "metadata": {
  "kernelspec": {
   "display_name": "Python 3 (Conda Base)",
   "language": "python",
   "name": "base_env"
  },
  "language_info": {
   "codemirror_mode": {
    "name": "ipython",
    "version": 3
   },
   "file_extension": ".py",
   "mimetype": "text/x-python",
   "name": "python",
   "nbconvert_exporter": "python",
   "pygments_lexer": "ipython3",
   "version": "3.12.9"
  }
 },
 "nbformat": 4,
 "nbformat_minor": 5
}
